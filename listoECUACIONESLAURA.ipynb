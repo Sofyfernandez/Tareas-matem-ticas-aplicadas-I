{
  "nbformat": 4,
  "nbformat_minor": 0,
  "metadata": {
    "colab": {
      "provenance": [],
      "authorship_tag": "ABX9TyMxTFN2rGwo6xFjrJUgdLRV",
      "include_colab_link": true
    },
    "kernelspec": {
      "name": "python3",
      "display_name": "Python 3"
    },
    "language_info": {
      "name": "python"
    }
  },
  "cells": [
    {
      "cell_type": "markdown",
      "metadata": {
        "id": "view-in-github",
        "colab_type": "text"
      },
      "source": [
        "<a href=\"https://colab.research.google.com/github/Sofyfernandez/Tareas-matem-ticas-aplicadas-I/blob/main/listoECUACIONESLAURA.ipynb\" target=\"_parent\"><img src=\"https://colab.research.google.com/assets/colab-badge.svg\" alt=\"Open In Colab\"/></a>"
      ]
    },
    {
      "cell_type": "markdown",
      "source": [
        "#1. PYTHAGORAS´S THEOREM\n",
        "$c^2=a^2+b^2$\n",
        "\n",
        "$a^2+b^2=c^2$\n",
        "\n",
        "#2. LOGARITHMS\n",
        "$\\log_{10}(2)$\n",
        "\n",
        "$ \\log(xy) = \\log x + \\log y\\$\n",
        "\n",
        "\n",
        "#3. CALCULUS\n",
        "$\\frac{df}{dt} = \\lim_{h \\to 0} \\frac{f(t+h) - f(t)}{h}$\n",
        "\n",
        "#4. LAW OF GRAVITY\n",
        "$ F = G \\frac{m_1 m_2}{r^2}$\n",
        "#5. THE SQUARE ROOT OF MINUS ONE\n",
        "$i^2 = -1$\n",
        "#6. EULER´S FORMULA FOR POLYHEDRA\n",
        "$V - E + F = 2$\n",
        "#7. NORMAL DISTRIBUTION\n",
        "$\\Phi(x) = \\frac{1}{\\sqrt{2\\pi\\sigma^2}} e^{-\\frac{(x-\\mu)^2}{2\\sigma^2}}\n",
        "    \\$\n",
        "#8. WAVE EQUATION\n",
        "\n",
        "$[\\frac{\\partial^2 u}{\\partial t^2} = c^2 \\frac{\\partial^2 u}{\\partial x^2}\n",
        "    \\]$\n",
        "  \n",
        "\n",
        "#9. FOURIER TRANSFORM\n",
        "$[\n",
        "    F(\\omega) = \\int f(x) e^{-2\\pi i \\omega x} \\, dx\n",
        "    \\]$\n",
        "\n",
        "#10. NAVIER-STOKES EQUATION\n",
        "$[\n",
        "    \\rho \\left( \\frac{\\partial v}{\\partial t} + v \\cdot \\nabla v \\right) = - \\nabla p + \\mu \\nabla^2 v + f\n",
        "    \\]$\n",
        "\n",
        "#11. MAXWELL´S EQUATIONS\n",
        "$[\n",
        "    \\nabla \\cdot E = 0, \\quad \\nabla \\times E = -\\frac{\\partial B}{\\partial t}\n",
        "    \\]\n",
        "    \\[\n",
        "    \\nabla \\cdot B = 0, \\quad \\nabla \\times H = \\frac{\\partial D}{\\partial t}\n",
        "    \\]$\n",
        "\n",
        "#12. SECOND LAW OF THERMODYNAMICS\n",
        "$[\n",
        "    dS \\geq 0\n",
        "    \\]$\n",
        "\n",
        "#13. RELATIVITY\n",
        "$[\n",
        "    E = mc^2\n",
        "    \\]$\n",
        "\n",
        "#14. SCHRODINGER´S EQUATION\n",
        "$[\n",
        "    i\\hbar \\frac{\\partial \\Psi}{\\partial t} = H \\Psi\n",
        "    \\]$\n",
        "#15. INFORMATION THEORY\n",
        "$[\n",
        "    H = - \\sum p(x) \\log p(x)\n",
        "    \\]\n",
        "$\n",
        "#16. CHAOS THEORY\n",
        "$[\n",
        "    \\frac{dx}{dt} = k(x - y)\n",
        "    \\]\n",
        "$\n",
        "#17. BLACK-SCHOLES EQUATION\n",
        "\n",
        "$[\n",
        "    \\frac{1}{2} \\sigma^2 S^2 \\frac{\\partial^2 V}{\\partial S^2} + rS \\frac{\\partial V}{\\partial S} + \\frac{\\partial V}{\\partial t} - rV = 0\n",
        "    \\]$\n",
        "\n",
        "\n"
      ],
      "metadata": {
        "id": "Pu_AzeXfJrwH"
      }
    }
  ]
}