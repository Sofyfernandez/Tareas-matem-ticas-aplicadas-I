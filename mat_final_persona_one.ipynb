{
  "nbformat": 4,
  "nbformat_minor": 0,
  "metadata": {
    "colab": {
      "provenance": [],
      "authorship_tag": "ABX9TyNcxGZXWdHq6k5XKbs6Gwo+",
      "include_colab_link": true
    },
    "kernelspec": {
      "name": "python3",
      "display_name": "Python 3"
    },
    "language_info": {
      "name": "python"
    }
  },
  "cells": [
    {
      "cell_type": "markdown",
      "metadata": {
        "id": "view-in-github",
        "colab_type": "text"
      },
      "source": [
        "<a href=\"https://colab.research.google.com/github/Sofyfernandez/Tareas-matem-ticas-aplicadas-I/blob/main/mat_final_persona_one.ipynb\" target=\"_parent\"><img src=\"https://colab.research.google.com/assets/colab-badge.svg\" alt=\"Open In Colab\"/></a>"
      ]
    },
    {
      "cell_type": "markdown",
      "source": [
        "\n",
        "\n",
        "##Pronóstico De La Demanda Energética En Cali Mediante Redes Neuronales\n",
        "\n",
        "\n",
        "\n",
        "\n",
        "#Integrantes:\n",
        "* Laura Sofia Fernandez | A00410462\n",
        "* Juan Miguel Correa | A00412037\n",
        "* Juan Jose Navas | A00411769\n",
        "* Juan Camilo Libreros | A00412339\n",
        "\n",
        "\n",
        "\n",
        "#Docente:\n",
        "* Yasmín García\n",
        "#Curso:\n",
        "\n",
        "* Matemáticas Aplicadas I\n",
        "\n",
        "\n",
        "\n",
        "\n",
        "1/06/2025\n",
        "\n",
        "Cali, Colombia\n",
        "\n",
        "**Resumen Ejecutivo**\n",
        "\n",
        "Este proyecto aplica redes neuronales para predecir la demanda energética en Cali, considerando su variabilidad diaria y estacional. Anticipar el consumo permite mejorar la planificación y eficiencia del sistema eléctrico. Matemáticamente, se utilizan funciones, derivadas y algoritmos de optimización para construir un modelo capaz de aprender patrones no lineales. La metodología incluyó el preprocesamiento de datos históricos, escalamiento, entrenamiento del modelo y evaluación mediante el Error Cuadrático Medio. Los resultados muestran que el modelo predice con buena precisión, superando métodos simples, aunque presenta limitaciones ante cambios abruptos. Se concluye que las matemáticas aplicadas, especialmente el cálculo, son fundamentales para el desarrollo de herramientas inteligentes en la gestión energética. Como propuesta de mejora, se sugiere incorporar variables externas como el clima y el calendario, y explorar modelos más avanzados como redes neuronales recurrentes para capturar mejor las dinámicas temporales.\n",
        "\n",
        "**introducción**\n",
        "\n",
        "La ciudad de Cali presenta una demanda energética con variaciones significativas a lo largo del día y del año, influenciada por factores como la actividad industrial, el clima y los hábitos de consumo residencial. Anticipar con precisión estos cambios es fundamental para una gestión eficiente del sistema eléctrico, evitando sobrecostos, desperdicio de energía o fallos en la distribución.\n",
        "\n",
        "Desde el ámbito de la Ingeniería Industrial, el análisis y la predicción de la demanda energética permiten mejorar la planificación operativa y optimizar los recursos técnicos y económicos. Este tipo de análisis es clave en procesos de toma de decisiones en empresas del sector energético o manufacturero. Desde la perspectiva de la Ingeniería en energía Inteligente, el pronóstico de la demanda energética es fundamental para garantizar el equilibrio entre generación y consumo en el sistema eléctrico. Una predicción precisa permite diseñar estrategias de despacho óptimas, prevenir sobrecargas, y mejorar la estabilidad del sistema de distribución. Además, facilita la integración de fuentes de energía renovable al anticipar picos de consumo y ajustar la operación en tiempo real.\n",
        "\n",
        "Aplicar modelos matemáticos como redes neuronales permite desarrollar herramientas inteligentes de monitoreo y planificación que fortalecen la eficiencia operativa del sector eléctrico y la calidad del servicio energético.Las matemáticas aplicadas, especialmente el cálculo, juegan un papel esencial en la construcción de modelos que describen y predicen fenómenos reales. Conceptos como funciones, derivadas y algoritmos de optimización permiten ajustar modelos complejos como las redes neuronales, capaces de aprender patrones no lineales presentes en los datos de consumo energético. Este proyecto propone el uso de una red neuronal para el pronóstico de la demanda Energética en Cali, demostrando cómo los conceptos matemáticos pueden ser aplicados eficazmente para resolver problemas reales en el contexto industrial.\n"
      ],
      "metadata": {
        "id": "pURQpGHRaRg6"
      }
    },
    {
      "cell_type": "markdown",
      "source": [
        "#**Marco Teórico**\n",
        "\n",
        "\n",
        "El pronóstico de demanda energética en este proyecto se aborda mediante redes neuronales artificiales, una técnica del aprendizaje automático que modela relaciones complejas entre variables a través de múltiples capas de procesamiento. Este enfoque se fundamenta en diversos conceptos matemáticos clave:\n",
        "\n",
        "**Funciones y funciones de activación:**\n",
        "\n",
        "Una función es una relación matemática entre entradas y salidas. En redes neuronales, se utilizan funciones de activación como Leaky ReLU, que permite que la red aprenda relaciones no lineales entre los datos. Sin funciones no lineales, la red sería equivalente a una regresión lineal, limitada para modelar fenómenos complejos como el consumo energético.\n",
        "\n",
        "**Derivadas y gradiente:**\n",
        "\n",
        "Durante el entrenamiento, la red ajusta sus parámetros (pesos y sesgos) utilizando derivadas. El gradiente indica cómo cambia el error con respecto a cada parámetro. Se usa para saber en qué dirección deben ajustarse los parámetros para reducir el error.\n",
        "\n",
        "**Descenso del gradiente y backpropagation:**\n",
        "\n",
        "El descenso del gradiente es un algoritmo de optimización que minimiza la función de pérdida (en este caso, el Error Cuadrático Medio). Para calcular los gradientes necesarios, se utiliza backpropagation, que aplica la regla de la cadena para propagar los errores desde la salida hasta las capas internas de la red.\n",
        "\n",
        "**Función de pérdida (MSE):**\n",
        "\n",
        "La función de pérdida mide cuán diferente es la predicción del modelo respecto al valor real. En este proyecto se utiliza el Error Cuadrático Medio (MSE), que penaliza más los errores grandes y es una medida común en problemas de regresión.\n",
        "\n",
        "**Escalamiento de datos (normalización):**\n",
        "\n",
        "El modelo utiliza el método MinMaxScaler para escalar las variables entre 0 y 1. Este proceso mejora la estabilidad numérica del entrenamiento, ya que evita que las variables con escalas diferentes dominen el comportamiento del modelo.\n",
        "\n",
        "**Transformaciones logarítmicas:**\n",
        "\n",
        "Se aplica la función logarítmica log1p sobre la demanda para reducir la variabilidad y estabilizar la varianza. Esto facilita que la red neuronal aprenda patrones más consistentes, especialmente cuando los datos tienen una distribución sesgada.\n",
        "\n",
        "**Funciones trigonométricas:**\n",
        "\n",
        "Se usan seno y coseno para representar la estacionalidad del consumo energético, modelando la variación periódica del año. Esta técnica transforma una variable cíclica (día del año) en una representación continua que la red puede procesar.\n",
        "\n",
        "**Media móvil:**\n",
        "\n",
        "Se calcula la media móvil de 7 días para suavizar fluctuaciones diarias en el consumo. Esta técnica estadística permite captar la tendencia general del comportamiento sin verse afectado por valores atípicos o ruidos diarios.\n",
        "\n",
        "**Tasa de cambio (implícita):**\n",
        "\n",
        "Aunque no se calcula directamente, la tasa de cambio está implícita en la variabilidad del consumo y puede entenderse a través de la forma en que el modelo aprende los patrones de aumento o disminución de la demanda.\n",
        "\n",
        "**Evaluación del modelo (MSE, MAE, R²):**\n",
        "\n",
        "Se utilizan tres métricas para evaluar el rendimiento:\n",
        "\n",
        "**MSE (Error Cuadrático Medio):**\n",
        "\n",
        "mide el error promedio al cuadrado.\n",
        "\n",
        "**MAE (Error Absoluto Medio):**\n",
        "\n",
        "mide el error promedio sin elevar al cuadrado.\n",
        "\n",
        "**R² (Coeficiente de Determinación):**\n",
        "\n",
        "indica qué tan bien el modelo explica la variabilidad del conjunto de datos.\n",
        "\n",
        "**Overfitting y early stopping:**\n",
        "\n",
        "Para evitar el sobreajuste, se implementa una técnica llamada early stopping, que detiene el entrenamiento si el error de validación no mejora después de varias épocas. Esto se basa en el análisis de curvas de aprendizaje, otro concepto estadístico presente en el proyecto.\n",
        "\n",
        "A continuación, se evidencian los conceptos matemáticos aplicados en el desarrollo del modelo de predicción, los cuales fueron fundamentales para el procesamiento de datos, el entrenamiento de la red neuronal y la evaluación de su desempeño. Estos conceptos permiten comprender cómo las matemáticas sustentan cada etapa del código implementado.\n",
        "\n",
        "1. Estadística Descriptiva\n",
        "\n",
        "🔹 Media (promedio diario)\n",
        "\n",
        "¿Para qué se usa?\n",
        "\n",
        "Calcular el promedio diario de la demanda y el pronóstico.\n",
        "\n"
      ],
      "metadata": {
        "id": "HfNg1dhHc2Ex"
      }
    },
    {
      "cell_type": "code",
      "execution_count": null,
      "metadata": {
        "id": "3qJtf5OZaIpN"
      },
      "outputs": [],
      "source": [
        "df_diario = df_cali.groupby('FechaOrdinal').agg({\n",
        "    'Demanda_GWh':'mean',\n",
        "    'Pronostico_Existente':'mean'\n",
        "}).reset_index()\n"
      ]
    },
    {
      "cell_type": "markdown",
      "source": [
        "🔹 Media móvil (suavizado)\n",
        "\n",
        "¿Para qué se usa?\n",
        "\n",
        "Reducir el ruido y capturar la tendencia general en la demanda."
      ],
      "metadata": {
        "id": "Md7qtkBjlx9p"
      }
    },
    {
      "cell_type": "code",
      "source": [
        "df_diario['MA_7'] = df_diario['Demanda_GWh'].rolling(7, center=True).mean().bfill().ffill()\n"
      ],
      "metadata": {
        "id": "VHb5lXDnl4jh"
      },
      "execution_count": null,
      "outputs": []
    },
    {
      "cell_type": "markdown",
      "source": [
        "🔹 Transformación logarítmica\n",
        "\n",
        "¿Para qué se usa?\n",
        "\n",
        "Reducir la variación (heterocedasticidad) y mejorar el aprendizaje del modelo."
      ],
      "metadata": {
        "id": "ydoe9BFBl6Rj"
      }
    },
    {
      "cell_type": "code",
      "source": [
        "df_diario['Demanda_log'] = np.log1p(df_diario['Demanda_GWh'])\n"
      ],
      "metadata": {
        "id": "vlBhq7wql_LS"
      },
      "execution_count": null,
      "outputs": []
    },
    {
      "cell_type": "markdown",
      "source": [
        " 2. Álgebra y Geometría\n",
        "\n",
        "🔹 Fechas como números (ordinales)\n",
        "\n",
        "¿Para qué se usa?\n",
        "\n",
        "Convertir fechas en números para poder usarlas como variables en el modelo."
      ],
      "metadata": {
        "id": "CHjwVgQfmBYl"
      }
    },
    {
      "cell_type": "code",
      "source": [
        "df_cali['FechaOrdinal'] = df_cali['Fecha'].map(pd.Timestamp.toordinal)\n"
      ],
      "metadata": {
        "id": "GllFYTaymP0O"
      },
      "execution_count": null,
      "outputs": []
    },
    {
      "cell_type": "markdown",
      "source": [
        "🔹 Funciones trigonométricas (seno y coseno)\n",
        "\n",
        "¿Para qué se usan?\n",
        "\n",
        "Modelar estacionalidad (repetición anual de patrones)."
      ],
      "metadata": {
        "id": "bLMGPtR-mTgx"
      }
    },
    {
      "cell_type": "code",
      "source": [
        "df_diario['DayOfYear'] = fechas.dt.dayofyear\n",
        "df_diario['sin_dia'] = np.sin(2*np.pi*df_diario['DayOfYear']/365)\n",
        "df_diario['cos_dia'] = np.cos(2*np.pi*df_diario['DayOfYear']/365)\n"
      ],
      "metadata": {
        "id": "x036H67umXs5"
      },
      "execution_count": null,
      "outputs": []
    },
    {
      "cell_type": "markdown",
      "source": [
        "🔹 Normalización Min-Max\n",
        "\n",
        "¿Para qué se usa?\n",
        "\n",
        "Escalar las variables a un rango [0,1] para mejorar el entrenamiento."
      ],
      "metadata": {
        "id": "Y4K17DFUmZUQ"
      }
    },
    {
      "cell_type": "code",
      "source": [
        "scaler_X = MinMaxScaler(); scaler_y = MinMaxScaler()\n",
        "X = scaler_X.fit_transform(df_diario[feature_cols])\n",
        "y = scaler_y.fit_transform(df_diario[target_col])\n"
      ],
      "metadata": {
        "id": "49r-L2MamdVy"
      },
      "execution_count": null,
      "outputs": []
    },
    {
      "cell_type": "markdown",
      "source": [
        " 3. Cálculo / Derivadas (Aprendizaje Automático)\n",
        "\n",
        "🔹 Función de activación Leaky ReLU\n",
        "\n",
        "¿Para qué se usa?\n",
        "\n",
        "Agregar no linealidad y evitar el \"moribundo ReLU\"."
      ],
      "metadata": {
        "id": "jm1mIlrCmfxE"
      }
    },
    {
      "cell_type": "code",
      "source": [
        "nn.LeakyReLU(0.1)\n"
      ],
      "metadata": {
        "id": "thOgdwBWmkk4"
      },
      "execution_count": null,
      "outputs": []
    },
    {
      "cell_type": "markdown",
      "source": [
        "🔹 Descenso del gradiente\n",
        "\n",
        "¿Para qué se usa?\n",
        "\n",
        "Actualizar los pesos del modelo minimizando el error."
      ],
      "metadata": {
        "id": "3G7uGQk9mmLU"
      }
    },
    {
      "cell_type": "code",
      "source": [
        "loss = criterion(model(xb), yb)\n",
        "loss.backward()\n",
        "optimizer.step()\n"
      ],
      "metadata": {
        "id": "ap5VlGS-mp0n"
      },
      "execution_count": null,
      "outputs": []
    },
    {
      "cell_type": "markdown",
      "source": [
        "🔹 Función de pérdida MSE (Error Cuadrático Medio)\n",
        "\n",
        "¿Para qué se usa?\n",
        "\n",
        "Medir el error entre la predicción y el valor real."
      ],
      "metadata": {
        "id": "S8mvHvaOmskh"
      }
    },
    {
      "cell_type": "code",
      "source": [
        "criterion = nn.MSELoss()\n"
      ],
      "metadata": {
        "id": "z7E_7SWgmvtr"
      },
      "execution_count": null,
      "outputs": []
    },
    {
      "cell_type": "markdown",
      "source": [
        " 4. Evaluación del Modelo\n",
        "\n",
        "🔹 Error cuadrático medio (MSE)\n",
        "\n",
        "¿Para qué se usa?\n",
        "\n",
        "Mide el promedio de los errores al cuadrado."
      ],
      "metadata": {
        "id": "9U7fyZI-mxsE"
      }
    },
    {
      "cell_type": "code",
      "source": [
        "mse_nn = mean_squared_error(y_true, y_pred)\n"
      ],
      "metadata": {
        "id": "vYUhb8JTm2um"
      },
      "execution_count": null,
      "outputs": []
    },
    {
      "cell_type": "markdown",
      "source": [
        "🔹 Error absoluto medio (MAE)\n",
        "\n",
        "¿Para qué se usa?\n",
        "\n",
        "Promedio de los errores absolutos entre real y predicho."
      ],
      "metadata": {
        "id": "DfD74Yujm4W5"
      }
    },
    {
      "cell_type": "code",
      "source": [
        "mae_nn = mean_absolute_error(y_true, y_pred)\n"
      ],
      "metadata": {
        "id": "Gf97F31lm8Cn"
      },
      "execution_count": null,
      "outputs": []
    },
    {
      "cell_type": "markdown",
      "source": [
        "🔹 Coeficiente R²\n",
        "\n",
        "¿Para qué se usa?\n",
        "\n",
        "Evalúa qué tanto explica el modelo la variabilidad de los datos."
      ],
      "metadata": {
        "id": "bp96nWO8m-Ql"
      }
    },
    {
      "cell_type": "code",
      "source": [
        "r2_nn = r2_score(y_true, y_pred)\n"
      ],
      "metadata": {
        "id": "2Ik-SN9XnBSD"
      },
      "execution_count": null,
      "outputs": []
    },
    {
      "cell_type": "markdown",
      "source": [
        "🔹 Tolerancia relativa del error\n",
        "\n",
        "¿Para qué se usa?\n",
        "\n",
        "Expresa el error como porcentaje respecto a la demanda media."
      ],
      "metadata": {
        "id": "vzxK3Sj3nC0z"
      }
    },
    {
      "cell_type": "code",
      "source": [
        "tolerancia = mse_nn / (mean_demanda**2) * 100"
      ],
      "metadata": {
        "id": "ZidSvm-wnGaE"
      },
      "execution_count": null,
      "outputs": []
    },
    {
      "cell_type": "markdown",
      "source": [
        "5. Probabilidad y Aleatoriedad\n",
        "\n",
        "🔹 Semillas aleatorias\n",
        "\n",
        "¿Para qué se usa?\n",
        "\n",
        "Asegurar resultados reproducibles."
      ],
      "metadata": {
        "id": "6QU6GlCJnJNr"
      }
    },
    {
      "cell_type": "code",
      "source": [
        "SEED = 45\n",
        "random.seed(SEED)\n",
        "np.random.seed(SEED)\n",
        "torch.manual_seed(SEED)\n"
      ],
      "metadata": {
        "id": "D8Yf1o5qnPbh"
      },
      "execution_count": null,
      "outputs": []
    },
    {
      "cell_type": "markdown",
      "source": [
        "🔹 Early stopping\n",
        "\n",
        "¿Para qué se usa?\n",
        "\n",
        "Detener el entrenamiento si no mejora, evitando sobreajuste."
      ],
      "metadata": {
        "id": "tgwFUyx3nz3b"
      }
    },
    {
      "cell_type": "code",
      "source": [
        "if val_losses[-1] < best_val - 1e-6:\n",
        "    best_val, counter = val_losses[-1], 0\n",
        "else:\n",
        "    counter+=1\n",
        "    if counter>=patience:\n",
        "        print(f\"Early stopping en epoch {epoch}\")\n",
        "        break\n"
      ],
      "metadata": {
        "id": "8BREwxbHobTg"
      },
      "execution_count": null,
      "outputs": []
    },
    {
      "cell_type": "markdown",
      "source": [
        "6. Visualización de Resultados\n",
        "\n",
        "🔹 Curva de aprendizaje\n",
        "\n",
        "¿Para qué se usa?\n",
        "\n",
        "Observar la evolución del error de entrenamiento y validación."
      ],
      "metadata": {
        "id": "olOrXwVIodzs"
      }
    },
    {
      "cell_type": "code",
      "source": [
        "plt.plot(train_losses,label='Train'); plt.plot(val_losses,label='Val')\n"
      ],
      "metadata": {
        "id": "ohFj2HNsoh01"
      },
      "execution_count": null,
      "outputs": []
    },
    {
      "cell_type": "markdown",
      "source": [
        "🔹 Comparación real vs predicción\n",
        "\n",
        "¿Para qué se usa?\n",
        "\n",
        "Evaluar visualmente el desempeño del modelo."
      ],
      "metadata": {
        "id": "Ah2gUOXaojtW"
      }
    },
    {
      "cell_type": "code",
      "source": [
        "plt.plot(dates_test,y_true,label='Real')\n",
        "plt.plot(dates_test,y_pred,label='Predicción',alpha=0.8)\n"
      ],
      "metadata": {
        "id": "_GmqZ6baonZn"
      },
      "execution_count": null,
      "outputs": []
    },
    {
      "cell_type": "markdown",
      "source": [
        "🔹 Histograma de errores\n",
        "\n",
        "¿Para qué se usa?\n",
        "\n",
        "Ver distribución de los errores y detectar sesgos."
      ],
      "metadata": {
        "id": "3RMBZIZoopRW"
      }
    },
    {
      "cell_type": "code",
      "source": [
        "plt.hist(y_true-y_pred,bins=50)"
      ],
      "metadata": {
        "id": "bOg5xMxyosSI"
      },
      "execution_count": null,
      "outputs": []
    }
  ]
}