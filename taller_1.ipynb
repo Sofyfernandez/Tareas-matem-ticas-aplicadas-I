{
  "nbformat": 4,
  "nbformat_minor": 0,
  "metadata": {
    "colab": {
      "provenance": []
    },
    "kernelspec": {
      "name": "python3",
      "display_name": "Python 3"
    },
    "language_info": {
      "name": "python"
    }
  },
  "cells": [
    {
      "cell_type": "markdown",
      "source": [
        "# Taller 1\n",
        "\n",
        "## Integrantes\n",
        "\n",
        "* Laura Sofia Fernandez | A00410462\n",
        "* Juan Miguel Correa | A00412937\n",
        "* Juan Jose Navas | A00411769\n",
        "* Juan Camilo Libreros | A00412339\n"
      ],
      "metadata": {
        "id": "Cup3yrBW5kwj"
      }
    },
    {
      "cell_type": "markdown",
      "source": [
        "### Pregunta 1\n",
        "\n",
        "> Despeje de \\( r \\) en la fórmula del área lateral del cilindro:\n",
        "\n",
        "$R =  \\frac{A}{2\\pi g}$\n",
        "\n",
        ">Despeje de \\( h \\) en la fórmula del volumen del cono:\n",
        "\n",
        "\n",
        "$ h = \\frac{3V}{A_B} $\n",
        "\n",
        ">Despeje de \\( r \\) en la fórmula del volumen de la esfera:\n",
        "\n",
        "$ r = \\sqrt[3]{\\frac{3V}{4\\pi}} $\n",
        "\n",
        ">Despeje de \\( h \\) en la fórmula del área del trapecio:\n",
        "\n",
        "$ h =  \\frac{2A}{B + b} $\n",
        "\n",
        ">Despeje de \\( t \\) en la fórmula de la intensidad eléctrica:\n",
        "\n",
        "$ t =  \\frac{q}{I} $\n",
        "\n",
        ">Despeje de \\( R \\) en la fórmula de la ley de Ohm:\n",
        "\n",
        "$ R =  \\frac{V}{I} $\n",
        "\n",
        ">Despeje de \\( t \\) en la ecuación de la energía eléctrica:\n",
        "\n",
        "$ E =  \\frac{E 3 R}{V^2} $\n",
        "\n",
        ">Despeje de \\( R \\) en la ecuación de resistencias en paralelo:\n",
        "\n",
        "$ R = \\frac{R_1 \\cdot R_2}{R_1 + R_2} $\n",
        "\n",
        "\n",
        "> Despeje de \\( P_f \\) en la ecuación:\n",
        "\n",
        "$ P_f = \\frac{P_0 V_0 T_f}{T_0 V_f} $\n",
        "\n",
        "\n",
        "> Despeje de \\( V_B \\) en la ecuación:\n",
        "\n",
        "$ V_B =  V_A - I R $"
      ],
      "metadata": {
        "id": "o2Ts3lmROW_j"
      }
    },
    {
      "cell_type": "markdown",
      "source": [
        "### Pregunta 2\n",
        "\n",
        "A continuación, encontraran una serie de operaciones aritméticas que\n",
        "deben ser resueltas y comprobadas con Python. Tenga cuidado con la\n",
        "jerarquía de *operaciones*\n",
        "\n",
        "\n",
        "• $ [3(−5 + 10 + (−5)) − 2((−2) + (−4) + 10)]^2 $\n",
        "\n",
        "• $ 45 + [3 (2 + 8) – \\frac{8}{4}] + 10 − 83 $\n",
        "\n",
        "• $ [( −4 + 7)2 − 10]. (−4)– 7 – 3 $"
      ],
      "metadata": {
        "id": "QgpOKOIl7pq9"
      }
    },
    {
      "cell_type": "code",
      "source": [
        "# Primera expresión\n",
        "exp1 = (3 * (-5 + 10 + (-5)) - 2 * ((-2) + (-4) + 10)) ** 2\n",
        "\n",
        "# Segunda expresión\n",
        "exp2 = 45 + (3 * (2 + 8) - 8 / 4) + 10 - 83\n",
        "\n",
        "# Tercera expresión\n",
        "exp3 = ((-4 + 7) * 2 - 10) * (-4) - 7 - 3\n",
        "\n",
        "print(\"Resultado primera expresión\",\"=\",exp1)\n",
        "print(\"Resultado primera expresión\",\"=\",exp2)\n",
        "print(\"Resultado primera expresión\",\"=\",exp3)"
      ],
      "metadata": {
        "id": "5yi0UI2dG4ke"
      },
      "execution_count": null,
      "outputs": []
    },
    {
      "cell_type": "markdown",
      "source": [
        "### Pregunta 3\n",
        "\n",
        "Las siguientes operaciones deben ser escritas y resultas en Python\n",
        "\n"
      ],
      "metadata": {
        "id": "8Kn1TPBz7rxv"
      }
    },
    {
      "cell_type": "code",
      "source": [
        "operacion_1= (1/5 * ((1/2)**2 + (3/4)**2) + 10/25 * ((1/2)**2 + (3/4)**2) + 8/40 * ((1/2)**2 + (3/4)**2))\n",
        "operacion_2= (9/4 * (6/8)**-1 - 5/2 * (25/20)**-1 + 40/8 * (20/16)**-1)\n",
        "\n",
        "print(operacion_1)\n",
        "print(operacion_2)"
      ],
      "metadata": {
        "colab": {
          "base_uri": "https://localhost:8080/"
        },
        "id": "8_FkIcF-KSNa",
        "outputId": "45ea04f9-965e-4c44-ab42-3a1bfe3fd3de"
      },
      "execution_count": 9,
      "outputs": [
        {
          "output_type": "stream",
          "name": "stdout",
          "text": [
            "0.65\n",
            "5.0\n"
          ]
        }
      ]
    },
    {
      "cell_type": "markdown",
      "source": [
        "### Pregunta 4\n",
        " Crea un programa que pida al usuario Nombre, Peso y Talla y este calcule el\n",
        "IMC\n",
        "\n"
      ],
      "metadata": {
        "id": "oxUH5e-W7tR-"
      }
    },
    {
      "cell_type": "code",
      "source": [
        "# funcion que calcula el imc\n",
        "def calcular_imc(nombre, peso, altura):\n",
        "  imc = peso / (altura ** 2)\n",
        "  print(f\"Hola {nombre}, tu IMC es: {imc:.2f}\")\n",
        "\n",
        "# funcion principal\n",
        "def main():\n",
        "    nombre = input(\"Ingrese su nombre: \")\n",
        "    peso = float(input(\"Ingrese su peso en kilogramos: \"))\n",
        "    altura = float(input(\"Ingrese su altura en metros: \"))\n",
        "    calcular_imc(nombre, peso, altura)\n",
        "\n",
        "\n",
        "if __name__ == \"__main__\":\n",
        "  main()\n"
      ],
      "metadata": {
        "colab": {
          "base_uri": "https://localhost:8080/"
        },
        "id": "Yrf8Uvie732m",
        "outputId": "7baf2e18-21b9-439f-b55b-6dd91603296e"
      },
      "execution_count": null,
      "outputs": [
        {
          "output_type": "stream",
          "name": "stdout",
          "text": [
            "Ingrese su nombre: Miguel\n",
            "Ingrese su peso en kilogramos: 100\n",
            "Ingrese su altura en metros: 1.90\n",
            "Hola Miguel, tu IMC es: 27.70\n"
          ]
        }
      ]
    },
    {
      "cell_type": "markdown",
      "source": [
        "### Pregunta 5\n",
        "Escriba un programa que pida dos números luego se imprima la suma,\n",
        "resta, producto y cociente\n",
        "\n"
      ],
      "metadata": {
        "id": "DNkX0SqM8jhB"
      }
    },
    {
      "cell_type": "code",
      "source": [
        "# Funcion para hacer la suma, resta, producto y division\n",
        "def calc(num_1, num_2):\n",
        "  suma = num_1 + num_2\n",
        "  resta = num_1 - num_2\n",
        "  producto = num_1 * num_2\n",
        "  cociente = num_1 / num_2\n",
        "\n",
        "  print(f\"La suma de {num_1} y {num_2} es: {suma}\")\n",
        "  print(f\"La resta de {num_1} y {num_2} es: {resta}\")\n",
        "  print(f\"El producto de {num_1} y {num_2} es: {producto}\")\n",
        "  print(f\"El cociente de {num_1} y {num_2} es: {cociente:.2f}\")\n",
        "\n",
        "\n",
        "# funcion principal\n",
        "def main():\n",
        "    num_1 = float(input(\"Ingrese el primer número: \"))\n",
        "    num_2 = float(input(\"Ingrese el segundo número: \"))\n",
        "    calc(num_1, num_2)\n",
        "\n",
        "\n",
        "if __name__ == \"__main__\":\n",
        "  main()\n"
      ],
      "metadata": {
        "colab": {
          "base_uri": "https://localhost:8080/"
        },
        "id": "t_Ni0OKM8pBu",
        "outputId": "e67433e3-c0a6-4145-f78f-b9dd36af6533"
      },
      "execution_count": 10,
      "outputs": [
        {
          "output_type": "stream",
          "name": "stdout",
          "text": [
            "Ingrese el primer número: 5\n",
            "Ingrese el segundo número: 10\n",
            "La suma de 5.0 y 10.0 es: 15.0\n",
            "La resta de 5.0 y 10.0 es: -5.0\n",
            "El producto de 5.0 y 10.0 es: 50.0\n",
            "El cociente de 5.0 y 10.0 es: 0.50\n"
          ]
        }
      ]
    },
    {
      "cell_type": "markdown",
      "source": [
        "### Pregunta 6\n",
        "\n",
        "Construya una lista que Almacene el precio del Barril de Petróleo los\n",
        "últimos 7 días. Indague sobre el precio de un litro de Cocacola (Hoy)\n",
        "y haga la conversión de Litros a Barriles bbl oil. Construya otra lista\n",
        "que relacione proporcionablemente el precio de un barril de Petróleo\n",
        "vs un barril de Cocacola. Construya un párrafo con sus conclusiones"
      ],
      "metadata": {
        "id": "KdxYcsQi9hYQ"
      }
    },
    {
      "cell_type": "code",
      "source": [
        "# Lista del precio del barril de petróleo (en USD) durante los últimos 7 días\n",
        "precio_petroleo = [76.24, 77.88, 78.31, 77.22, 76.71, 76.45, 77.17]\n",
        "\n",
        "# Precio de un litro de Coca‑Cola (dato aproximado en USD)\n",
        "precio_litro_coc = 1.50\n",
        "\n",
        "# Conversión: 1 barril de petróleo equivale a 159 litros\n",
        "conversion_barril = 159\n",
        "\n",
        "# Precio de un \"barril\" de Coca‑Cola (convertido a partir del precio de 1 litro)\n",
        "barril_coc = precio_litro_coc * conversion_barril\n",
        "\n",
        "# Lista que relaciona el precio del petróleo con el precio de un \"barril\" de Coca‑Cola\n",
        "# (se calcula el cociente: precio del petróleo / precio del \"barril\" de Coca‑Cola)\n",
        "\n",
        "ratio_list = [round(price / barril_coc, 3) for price in precio_petroleo]\n",
        "\n",
        "\n",
        "print(\"Precios del barril de petróleo (últimos 7 días):\", precio_petroleo)\n",
        "print(\"Precio de un 'barril' de Coca‑Cola (159 litros):\", barril_coc)\n",
        "print(\"Relación (Petróleo / Coca‑Cola) para cada día:\", ratio_list)\n",
        "\n"
      ],
      "metadata": {
        "colab": {
          "base_uri": "https://localhost:8080/"
        },
        "id": "cnSvvf9-9er-",
        "outputId": "9f27e64c-c91f-4996-ac1e-2e2dfb14ad49"
      },
      "execution_count": 3,
      "outputs": [
        {
          "output_type": "stream",
          "name": "stdout",
          "text": [
            "Precios del barril de petróleo (últimos 7 días): [76.24, 77.88, 78.31, 77.22, 76.71, 76.45, 77.17]\n",
            "Precio de un 'barril' de Coca‑Cola (159 litros): 238.5\n",
            "Relación (Petróleo / Coca‑Cola) para cada día: [0.32, 0.327, 0.328, 0.324, 0.322, 0.321, 0.324]\n"
          ]
        }
      ]
    },
    {
      "cell_type": "markdown",
      "source": [
        "Al analizar la relación entre el precio del barril de petróleo y el precio equivalente de un \"barril\" de Coca-Cola, se observa que la Coca-Cola es consistentemente más cara, con un precio promedio de $238.50 frente al rango de $76 a $78 del petróleo. Esto refleja cómo productos de consumo con altos costos de producción, comercialización y marca, como la Coca-Cola, pueden superar significativamente en valor a una materia prima esencial como el petróleo, que a pesar de su importancia global, tiene un precio determinado principalmente por factores de oferta y demanda en mercados internacionales."
      ],
      "metadata": {
        "id": "2sKhyza5MMNS"
      }
    }
  ]
}