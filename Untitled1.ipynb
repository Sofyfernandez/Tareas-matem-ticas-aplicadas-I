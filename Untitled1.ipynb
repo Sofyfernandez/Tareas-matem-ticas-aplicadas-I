{
  "nbformat": 4,
  "nbformat_minor": 0,
  "metadata": {
    "colab": {
      "provenance": [],
      "authorship_tag": "ABX9TyNPuXt0t5bNW+qGT8XtWRP0",
      "include_colab_link": true
    },
    "kernelspec": {
      "name": "python3",
      "display_name": "Python 3"
    },
    "language_info": {
      "name": "python"
    }
  },
  "cells": [
    {
      "cell_type": "markdown",
      "metadata": {
        "id": "view-in-github",
        "colab_type": "text"
      },
      "source": [
        "<a href=\"https://colab.research.google.com/github/Sofyfernandez/Tareas-matem-ticas-aplicadas-I/blob/main/Untitled1.ipynb\" target=\"_parent\"><img src=\"https://colab.research.google.com/assets/colab-badge.svg\" alt=\"Open In Colab\"/></a>"
      ]
    },
    {
      "cell_type": "markdown",
      "source": [
        "Laura Fernandez\n",
        "10,13,14"
      ],
      "metadata": {
        "id": "-Nqv0O39NnBb"
      }
    },
    {
      "cell_type": "code",
      "source": [
        "def descuento_compra(total):\n",
        "  if 50 <= total < 100:\n",
        "    descuento=0.05\n",
        "  elif 100< total <200:\n",
        "    descuento=0.10\n",
        "  elif 200<=total:\n",
        "    descuento=0.15\n",
        "  else:\n",
        "    descuento=0\n",
        "\n",
        "\n",
        "  total_con_descuento = total * (1 - descuento)\n",
        "  return total_con_descuento\n",
        "\n",
        "\n",
        "compra_total=float(input(\"Ingrese el tota de la compra: \"))\n",
        "print(f\"Total con descuento: ${descuento_compra(compra_total):}\")"
      ],
      "metadata": {
        "colab": {
          "base_uri": "https://localhost:8080/"
        },
        "id": "iJuwV-NeNq3p",
        "outputId": "1378302d-897c-4ca7-ff70-0b51d9c10be8"
      },
      "execution_count": 14,
      "outputs": [
        {
          "output_type": "stream",
          "name": "stdout",
          "text": [
            "Ingrese el tota de la compra: 12\n",
            "Total con descuento: $12.0\n"
          ]
        }
      ]
    },
    {
      "cell_type": "code",
      "source": [
        "#punto 13\n",
        "def personas_no_asistieron(registrados,asistieron):\n",
        "  no_asistieron = set(registrados) - set(asistieron)\n",
        "  return list(no_asistieron)\n",
        "\n",
        "registrados=[\"Fabian\",\"Andres\",\"Laura\",\"Julian\",\"Patricia\",\"Sara\",\"Sofia\"]\n",
        "asistieron=[\"Laura\",\"Sara\",\"Sofia\"]\n",
        "\n",
        "no_asistieron=personas_no_asistieron(registrados,asistieron)\n",
        "print(no_asistieron)\n"
      ],
      "metadata": {
        "colab": {
          "base_uri": "https://localhost:8080/"
        },
        "id": "Zti1GpA7S_kH",
        "outputId": "5a35dfc7-fd77-46ce-996d-e88e60f74f47"
      },
      "execution_count": 18,
      "outputs": [
        {
          "output_type": "stream",
          "name": "stdout",
          "text": [
            "['Patricia', 'Andres', 'Fabian', 'Julian']\n"
          ]
        }
      ]
    },
    {
      "cell_type": "code",
      "source": [
        "#punto 14\n",
        "def recomendacion_ejercicio(minutos_semanales):\n",
        "  prom_minutos = minutos_semanales / 7\n",
        "\n",
        "  if prom_minutos > 60:\n",
        "    return \"Excelente, estás en forma\"\n",
        "  elif 30 > prom_minutos < 60:\n",
        "    return \"Buen trabajo, pero puedes mejorar\"\n",
        "  else:\n",
        "    return \"Debes hacer más ejercicio\"\n",
        "\n",
        "minutos = int(input(\"Cantidad de minutos de ejercicio realizado en una semana: \"))\n",
        "\n",
        "print(recomendacion_ejercicio(minutos))"
      ],
      "metadata": {
        "colab": {
          "base_uri": "https://localhost:8080/"
        },
        "id": "llYt9NRmVmqK",
        "outputId": "19e12bea-4c6f-4997-acd4-3a3bce0f11aa"
      },
      "execution_count": 20,
      "outputs": [
        {
          "output_type": "stream",
          "name": "stdout",
          "text": [
            "Cantidad de minutos de ejercicio realizado en una semana: 900\n",
            "Excelente, estás en forma\n"
          ]
        }
      ]
    }
  ]
}