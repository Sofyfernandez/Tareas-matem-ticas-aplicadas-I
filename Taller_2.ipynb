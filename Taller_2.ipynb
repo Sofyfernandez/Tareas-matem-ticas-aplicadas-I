{
  "nbformat": 4,
  "nbformat_minor": 0,
  "metadata": {
    "colab": {
      "provenance": []
    },
    "kernelspec": {
      "name": "python3",
      "display_name": "Python 3"
    },
    "language_info": {
      "name": "python"
    }
  },
  "cells": [
    {
      "cell_type": "markdown",
      "source": [
        "# Taller 2\n",
        "\n",
        "### Integrantes:\n",
        "* Laura Sofia Fernandez | A00410462\n",
        "* Juan Miguel Correa | A00412937\n",
        "* Juan Jose Navas | A00411769\n",
        "* Juan Camilo Libreros | A00412339"
      ],
      "metadata": {
        "id": "f2hU1-GH_vW_"
      }
    },
    {
      "cell_type": "markdown",
      "source": [
        "##1. Filtrar números primos\n",
        "\n",
        "Escribe una función que reciba una lista de números y devuelva una nueva lista solo\n",
        "con los números primos."
      ],
      "metadata": {
        "id": "020khne9__Vb"
      }
    },
    {
      "cell_type": "code",
      "source": [
        "import math\n",
        "\n",
        "def es_primo(n): #Verificar si el numero es primo\n",
        "    if n < 2:\n",
        "        return False\n",
        "    for i in range(2, int(math.sqrt(n)) + 1):\n",
        "        if n % i == 0:\n",
        "            return False\n",
        "    return True\n",
        "\n",
        "def main():\n",
        "  lista = [2, 3, 4, 5, 6, 7, 8, 9, 10]\n",
        "  lista_primos = []\n",
        "  for i in lista:\n",
        "    if es_primo(i):\n",
        "      lista_primos.append(i)\n",
        "\n",
        "  print(lista_primos)\n",
        "\n",
        "\n",
        "if __name__ == \"__main__\":\n",
        "  main()"
      ],
      "metadata": {
        "colab": {
          "base_uri": "https://localhost:8080/"
        },
        "id": "OsGsJ6JQGwKu",
        "outputId": "6d961518-0823-436e-fba9-2cb8781e3d4a"
      },
      "execution_count": null,
      "outputs": [
        {
          "output_type": "stream",
          "name": "stdout",
          "text": [
            "[2, 3, 5, 7]\n"
          ]
        }
      ]
    },
    {
      "cell_type": "markdown",
      "source": [
        "## 2. Escribe una función que reciba dos listas y devuelva una nueva lista con los elementos comunes entre ambas."
      ],
      "metadata": {
        "id": "BcAwvBarAE2f"
      }
    },
    {
      "cell_type": "code",
      "source": [
        "def elementos_comunes(lista1, lista2):\n",
        "    return list(set(lista1) & set(lista2))\n",
        "\n",
        "def main():\n",
        "  lista1 = [1, 2, 3, 4, 5]\n",
        "  lista2 = [4, 5, 6, 7, 8]\n",
        "  lista_comunes = elementos_comunes(lista1, lista2)\n",
        "  print(lista_comunes)\n",
        "\n",
        "if __name__ == \"__main__\":\n",
        "  main()"
      ],
      "metadata": {
        "colab": {
          "base_uri": "https://localhost:8080/"
        },
        "id": "N3FaUt6zHLZ8",
        "outputId": "e6036697-492a-46b7-81a4-9135ffd35ada"
      },
      "execution_count": null,
      "outputs": [
        {
          "output_type": "stream",
          "name": "stdout",
          "text": [
            "[4, 5]\n"
          ]
        }
      ]
    },
    {
      "cell_type": "markdown",
      "source": [
        "## 3. Crea una función que reciba una lista de números y la convierta en una matriz cuadrada. Si la cantidad de elementos no permite formar una matriz cuadrada, devuelve un mensaje de error."
      ],
      "metadata": {
        "id": "03OSzBb7AVj2"
      }
    },
    {
      "cell_type": "code",
      "source": [
        "import math  # Falta importar math\n",
        "\n",
        "def lista_a_matriz(lista):\n",
        "    n = len(lista)\n",
        "    raiz = math.sqrt(n)\n",
        "    if raiz != int(raiz):\n",
        "        return \"Error: La cantidad de elementos no permite formar una matriz cuadrada.\"\n",
        "    lado = int(raiz)\n",
        "    matriz = [lista[i*lado:(i+1)*lado] for i in range(lado)]\n",
        "    return matriz\n",
        "\n",
        "\n",
        "def main():\n",
        "    lista = [1, 7, 4, 7, 3, 8, 12, 4, 0]\n",
        "    matriz = lista_a_matriz(lista)\n",
        "\n",
        "    if isinstance(matriz, str):  # Si la función devolvió un error, imprimirlo directamente\n",
        "        print(matriz)\n",
        "    else:\n",
        "        print(\"Matriz cuadrada:\")\n",
        "        for fila in matriz:\n",
        "            print(fila)  # Imprime cada fila en una línea separada\n",
        "\n",
        "if __name__ == \"__main__\":\n",
        "    main()\n"
      ],
      "metadata": {
        "colab": {
          "base_uri": "https://localhost:8080/"
        },
        "id": "KuRGwFs_I3el",
        "outputId": "25e90471-0678-4597-de6d-925b41f5e35a"
      },
      "execution_count": null,
      "outputs": [
        {
          "output_type": "stream",
          "name": "stdout",
          "text": [
            "Matriz cuadrada:\n",
            "[1, 7, 4]\n",
            "[7, 3, 8]\n",
            "[12, 4, 0]\n"
          ]
        }
      ]
    },
    {
      "cell_type": "code",
      "source": [
        "import numpy as np\n",
        "\n",
        "def lista_a_matriz(lista):\n",
        "    n = len(lista)\n",
        "    raiz = int(np.sqrt(n))\n",
        "\n",
        "    if raiz != int(raiz):\n",
        "        return \"Error: La cantidad de elementos no permite formar una matriz cuadrada.\"\n",
        "\n",
        "    return np.array(lista).reshape(raiz, raiz)\n",
        "\n",
        "def main():\n",
        "    lista = [1, 7, 4, 7, 3, 8, 12, 4, 0]\n",
        "    matriz = lista_a_matriz(lista)\n",
        "\n",
        "    if isinstance(matriz, str):\n",
        "        print(matriz)\n",
        "    else:\n",
        "        print(\"Matriz cuadrada:\\n\", matriz)\n",
        "\n",
        "if __name__ == \"__main__\":\n",
        "    main()"
      ],
      "metadata": {
        "colab": {
          "base_uri": "https://localhost:8080/"
        },
        "id": "nEo3IBk6sZC4",
        "outputId": "2da77fe6-f760-492b-8740-8ea2199b8eeb"
      },
      "execution_count": null,
      "outputs": [
        {
          "output_type": "stream",
          "name": "stdout",
          "text": [
            "Matriz cuadrada:\n",
            " [[ 1  7  4]\n",
            " [ 7  3  8]\n",
            " [12  4  0]]\n"
          ]
        }
      ]
    },
    {
      "cell_type": "markdown",
      "source": [
        "## 4. Escribe una función que reciba una lista de números y devuelva la media, mediana y moda. Si hay más de una moda, devuelve todas."
      ],
      "metadata": {
        "id": "zJek2GPLFUDK"
      }
    },
    {
      "cell_type": "code",
      "source": [
        "import numpy as np\n",
        "\n",
        "\n",
        "def media(lista):\n",
        "    return np.mean(lista)\n",
        "\n",
        "\n",
        "def mediana(lista):\n",
        "    return np.median(lista)\n",
        "\n",
        "def moda(lista):\n",
        "    valores, conteos = np.unique(lista, return_counts=True)  # Encuentra valores únicos y sus frecuencias\n",
        "    max_frecuencia = np.max(conteos)  # Encuentra la frecuencia máxima\n",
        "    modas = valores[conteos == max_frecuencia]  # Filtra los valores con la frecuencia máxima\n",
        "\n",
        "    return modas if len(modas) > 1 else modas[0]  # Devuelve lista si hay varias modas\n",
        "\n",
        "def main():\n",
        "  lista = [1, 2, 3, 4, 5, 5, 6, 7, 8, 9, 10]\n",
        "\n",
        "  print(round(media(lista), 2))\n",
        "  print(mediana(lista))\n",
        "  print(moda(lista))\n",
        "\n",
        "if __name__ == \"__main__\":\n",
        "  main()"
      ],
      "metadata": {
        "colab": {
          "base_uri": "https://localhost:8080/"
        },
        "id": "x_tQDpeeK6ad",
        "outputId": "19ae2b6f-d375-43f1-a678-53f1de371aa5"
      },
      "execution_count": null,
      "outputs": [
        {
          "output_type": "stream",
          "name": "stdout",
          "text": [
            "5.45\n",
            "5.0\n",
            "5\n"
          ]
        }
      ]
    },
    {
      "cell_type": "markdown",
      "source": [
        "## 5. Escribe una función que reciba una lista de precios de productos y una lista de cantidades compradas. La función debe calcular el total a pagar, aplicando un descuento del 10% si el total supera $100."
      ],
      "metadata": {
        "id": "0zcj0U18FfGx"
      }
    },
    {
      "cell_type": "code",
      "source": [
        "def calcular_total(precios, cantidades):\n",
        "    total = 0\n",
        "    for i in range(len(precios)):\n",
        "        total += precios[i] * cantidades[i]\n",
        "    if total > 100:\n",
        "        total *= 0.9\n",
        "    return total\n",
        "\n",
        "precios = [25, 30, 20, 15]\n",
        "cantidades = [2, 1, 3, 4]\n",
        "total_a_pagar = calcular_total(precios, cantidades)\n",
        "print(f\"Total a pagar: ${total_a_pagar:.2f}\")\n"
      ],
      "metadata": {
        "colab": {
          "base_uri": "https://localhost:8080/"
        },
        "id": "ZOYCWeC5k3AV",
        "outputId": "5ba212e2-5f39-49e0-d486-efcac1d75c00"
      },
      "execution_count": null,
      "outputs": [
        {
          "output_type": "stream",
          "name": "stdout",
          "text": [
            "Total a pagar: $180.00\n"
          ]
        }
      ]
    },
    {
      "cell_type": "code",
      "source": [
        "import numpy as np\n",
        "\n",
        "def descuento(Lista_precios,lista_cantidades):\n",
        "  total = np.dot(Lista_precios,lista_cantidades)\n",
        "  if total > 100:\n",
        "    descuento = total * 0.10\n",
        "    total_descuento = total - descuento\n",
        "    return total_descuento\n",
        "  else:\n",
        "    return total\n",
        "\n",
        "def main():\n",
        "  Lista_precios = [25, 30, 20, 15]\n",
        "  lista_cantidades = [2, 1, 3, 4]\n",
        "\n",
        "  print(descuento(Lista_precios,lista_cantidades))\n",
        "\n",
        "if __name__ == \"__main__\":\n",
        "  main()"
      ],
      "metadata": {
        "colab": {
          "base_uri": "https://localhost:8080/"
        },
        "id": "wR7IJlrynC2E",
        "outputId": "08dba07d-2875-44c5-c4ab-c1c9f049b14f"
      },
      "execution_count": null,
      "outputs": [
        {
          "output_type": "stream",
          "name": "stdout",
          "text": [
            "180.0\n"
          ]
        }
      ]
    },
    {
      "cell_type": "markdown",
      "source": [
        "## 6. Control de inventario: Crea una función que reciba una lista de productos en inventario y una lista de productos vendidos. La función debe devolver una lista con los productos que quedan en inventario, eliminando los vendidos.\n",
        "\n"
      ],
      "metadata": {
        "id": "tXS1Cm2jFjnQ"
      }
    },
    {
      "cell_type": "code",
      "source": [
        "def actualizado(inventario, vendidos):\n",
        "    inventario_actualizado = []  # Crear una nueva lista\n",
        "    for producto in inventario:\n",
        "        if producto not in vendidos:\n",
        "            inventario_actualizado.append(producto)\n",
        "    return inventario_actualizado  # Devolver la lista actualizada\n",
        "\n",
        "def main():\n",
        "    # Listas de productos\n",
        "    inventario = [\"manzana\", \"banana\", \"pera\", \"uva\", \"naranja\"]\n",
        "    vendidos = [\"banana\", \"uva\"]\n",
        "\n",
        "    # Llamar la función y obtener la lista actualizada\n",
        "    inventario_actualizado = actualizado(inventario, vendidos)\n",
        "\n",
        "    # Mostrar el inventario actualizado\n",
        "    print(\"Inventario actualizado:\", inventario_actualizado)\n",
        "\n",
        "if __name__ == \"__main__\":\n",
        "    main()"
      ],
      "metadata": {
        "colab": {
          "base_uri": "https://localhost:8080/"
        },
        "id": "TCBZ0X7AmiWC",
        "outputId": "0aadbc04-5664-4727-c3d3-407b8e945238"
      },
      "execution_count": null,
      "outputs": [
        {
          "output_type": "stream",
          "name": "stdout",
          "text": [
            "Inventario actualizado: ['manzana', 'pera', 'naranja']\n"
          ]
        }
      ]
    },
    {
      "cell_type": "markdown",
      "source": [
        "## 7. Registro de temperaturas: Escribe una función que reciba una lista de temperaturas diarias (en grados Celsius) y devuelva cuántos días la temperatura estuvo por encima de 30°C, cuántos entre 20°C y 30°C, y cuántos por debajo de 20°C."
      ],
      "metadata": {
        "id": "yXopDj5DGsQe"
      }
    },
    {
      "cell_type": "code",
      "source": [
        "def clasificar_temperaturas(temperaturas):\n",
        "    dias_calidos = 0  # Más de 30°C\n",
        "    dias_frios = 0  # Menos de 20°C\n",
        "    dias_normales = 0  # Entre 20°C y 30°C (incluidos)\n",
        "\n",
        "    for temperatura in temperaturas:\n",
        "        if temperatura > 30:\n",
        "            dias_calidos += 1\n",
        "        elif 20 <= temperatura <= 30:\n",
        "            dias_normales += 1\n",
        "        else:\n",
        "            dias_frios += 1\n",
        "\n",
        "    return dias_calidos, dias_normales, dias_frios  # Retornamos los valores correctamente\n",
        "\n",
        "# Lista de temperaturas de ejemplo\n",
        "temperaturas = [15, 25, 35, 32, 2, 41, 30, 20, 22]\n",
        "\n",
        "# Llamamos la función y almacenamos los resultados\n",
        "dias_calidos, dias_normales, dias_frios = clasificar_temperaturas(temperaturas)\n",
        "\n",
        "# Imprimimos los resultados correctamente\n",
        "print(f\"Días calurosos (>30°C): {dias_calidos}\")\n",
        "print(f\"Días templados (20°C - 30°C): {dias_normales}\")\n",
        "print(f\"Días fríos (<20°C): {dias_frios}\")"
      ],
      "metadata": {
        "id": "7wi6UMAfmyEG"
      },
      "execution_count": null,
      "outputs": []
    },
    {
      "cell_type": "markdown",
      "source": [
        "## 8. Cálculo de calorías consumidas: Crea una función que reciba una lista de alimentos consumidos y una lista de calorías correspondientes a cada alimento. La función debe calcular el total de calorías consumidas y devolver un mensaje si se superan las 2000 calorías diarias recomendadas."
      ],
      "metadata": {
        "id": "ENkb0WAOGltn"
      }
    },
    {
      "cell_type": "code",
      "source": [
        "import numpy as np\n",
        "\n",
        "def caloria(lista_alimentos, lista_calorias):\n",
        "    total_calorias = np.sum(lista_calorias)\n",
        "\n",
        "    if total_calorias > 2000:\n",
        "      return \"Cuidado, estas comiendo muchas calorias\"\n",
        "    else:\n",
        "      return \"Estas comiendo bien\"\n",
        "\n",
        "\n",
        "def main():\n",
        "  lista_alimentos = [\"Hamburgueras\", \"Pan\" , \"Arroz\", \"Perro caliente\", \"Pizza\"]\n",
        "  lista_calorias = [600, 200, 300, 500, 1000]\n",
        "  print(caloria(lista_alimentos, lista_calorias))\n",
        "\n",
        "\n",
        "if __name__ == \"__main__\":\n",
        "  main()"
      ],
      "metadata": {
        "colab": {
          "base_uri": "https://localhost:8080/"
        },
        "id": "GcrupW1LSZjt",
        "outputId": "21ee5c4c-f182-4188-99fb-5a4dc7d279ec"
      },
      "execution_count": null,
      "outputs": [
        {
          "output_type": "stream",
          "name": "stdout",
          "text": [
            "Cuidado, estas comiendo muchas calorias\n"
          ]
        }
      ]
    },
    {
      "cell_type": "markdown",
      "source": [
        "## 9. Promedio de ventas mensuales: Escribe una función que reciba una lista de ventas mensuales (12 valores) y calcule el promedio de ventas. Además, debe indicar cuántos meses estuvieron por encima del promedio.\n"
      ],
      "metadata": {
        "id": "nReS8hG4Ghf7"
      }
    },
    {
      "cell_type": "code",
      "source": [
        "def promedio_ventas(ventas):\n",
        "    promedio_de_ventas = sum(ventas) / len(ventas)  # Usa 'ventas' en lugar de 'ventas_mensuales'\n",
        "    meses_encima = sum(venta > promedio_de_ventas for venta in ventas)  # Usa 'ventas' en lugar de 'ventas_mensuales'\n",
        "\n",
        "    return promedio_de_ventas, meses_encima\n",
        "\n",
        "\n",
        "ventas_mensuales = [55, 150, 78, 62, 51, 29, 37, 43, 66, 102, 87]\n",
        "\n",
        "# Llamamos a la función y guardamos los valores retornados\n",
        "promedio, meses = promedio_ventas(ventas_mensuales)\n",
        "\n",
        "# Imprimimos los resultados\n",
        "print(f\"Promedio de ventas: {promedio:.2f}\")\n",
        "print(f\"Meses con ventas superiores al promedio: {meses}\")\n"
      ],
      "metadata": {
        "colab": {
          "base_uri": "https://localhost:8080/"
        },
        "id": "otHuF8gjnvtg",
        "outputId": "c6ea4a46-ab2b-4d5e-eaf3-226dd1371fa4"
      },
      "execution_count": null,
      "outputs": [
        {
          "output_type": "stream",
          "name": "stdout",
          "text": [
            "Promedio de ventas: 69.09\n",
            "Meses con ventas superiores al promedio: 4\n"
          ]
        }
      ]
    },
    {
      "cell_type": "markdown",
      "source": [
        "\n",
        "## 10. Sistema de descuentos en una tienda: Crea una función que reciba el total de una compra y aplique un descuento según el monto:\n",
        "* 5% si el total está entre 50 y 100.\n",
        "* 10% si el total es mayor a 100 y menor a 200.\n",
        "* 15% si el total es mayor o igual a $200.\n",
        "La función debe devolver el total con el descuento aplicado."
      ],
      "metadata": {
        "id": "GUXG87G1GeLd"
      }
    },
    {
      "cell_type": "code",
      "source": [
        "def descuento_compra(total):\n",
        "  if 50 <= total < 100:\n",
        "    descuento=0.05\n",
        "  elif 100< total <200:\n",
        "    descuento=0.10\n",
        "  elif 200<=total:\n",
        "    descuento=0.15\n",
        "  else:\n",
        "    descuento=0\n",
        "\n",
        "\n",
        "  total_con_descuento = total * (1 - descuento)\n",
        "  return total_con_descuento\n",
        "\n",
        "\n",
        "compra_total=float(input(\"Ingrese el tota de la compra: \"))\n",
        "print(f\"Total con descuento: ${descuento_compra(compra_total):}\")"
      ],
      "metadata": {
        "id": "qF6xB3xMXHZ9"
      },
      "execution_count": null,
      "outputs": []
    },
    {
      "cell_type": "markdown",
      "source": [
        "## 11. Registro de pacientes: Escribe una función que reciba una lista de nombres de pacientes y una lista de edades. La función debe devolver una lista de pacientes mayores de 60 años, indicando que requieren atención prioritaria.\n"
      ],
      "metadata": {
        "id": "HkelUKHzGa-a"
      }
    },
    {
      "cell_type": "code",
      "source": [
        "def pacientes_prioritarios(nombres, edades):\n",
        "    pacientes_mayores = [nombres[i] for i in range(len(edades)) if edades[i] > 60]\n",
        "\n",
        "    return pacientes_mayores\n",
        "\n",
        "nombres_pacientes = [\"Ana\", \"Carlos\", \"Luis\", \"María\", \"Jorge\"]\n",
        "edades_pacientes = [45, 70, 61, 39, 80]\n",
        "\n",
        "prioritarios = pacientes_prioritarios(nombres_pacientes, edades_pacientes)\n",
        "\n",
        "print(\"Pacientes que requieren atención prioritaria:\", prioritarios)\n"
      ],
      "metadata": {
        "colab": {
          "base_uri": "https://localhost:8080/"
        },
        "id": "NyyhAX_UoJYF",
        "outputId": "5f269006-3f88-4327-b4c6-efe3edee8de7"
      },
      "execution_count": null,
      "outputs": [
        {
          "output_type": "stream",
          "name": "stdout",
          "text": [
            "Pacientes que requieren atención prioritaria: ['Carlos', 'Luis', 'Jorge']\n"
          ]
        }
      ]
    },
    {
      "cell_type": "markdown",
      "source": [
        "## 12. Cálculo de gastos mensuales: Crea una función que reciba una lista de gastos mensuales (alquiler, comida, transporte, etc.) y calcule el total de gastos. Además, debe indicar cuál fue el gasto más alto y en qué categoría se realizó.\n"
      ],
      "metadata": {
        "id": "2sw4HIX9GOGc"
      }
    },
    {
      "cell_type": "code",
      "source": [
        "def gasto_total(gastos_mensuales):\n",
        "    total_gastos = sum(gastos_mensuales.values())\n",
        "    return total_gastos\n",
        "\n",
        "def gasto_maximo(gastos_mensuales):\n",
        "    gasto_maximo = max(gastos_mensuales, key=gastos_mensuales.get)\n",
        "    return gasto_maximo\n",
        "\n",
        "gastos_mensuales = {\n",
        "    \"Mercado\" : 12.5,\n",
        "    \"Gym\" : 150.0,\n",
        "    \"Salidas\" : 600.0,\n",
        "    \"transporte\" : 250.0,\n",
        "    \"salud\" : 420.0\n",
        "    }\n",
        "\n",
        "print(f\"total de gastos: {gasto_total(gastos_mensuales)}\")\n",
        "print(f\"gasto maximo: {gasto_maximo(gastos_mensuales)}\")"
      ],
      "metadata": {
        "colab": {
          "base_uri": "https://localhost:8080/"
        },
        "id": "U9DVkSNBoEmN",
        "outputId": "5d62fe2c-78ea-4d8c-dbc3-9881a8c4ed30"
      },
      "execution_count": null,
      "outputs": [
        {
          "output_type": "stream",
          "name": "stdout",
          "text": [
            "total de gastos: 1432.5\n",
            "gasto maximo: Salidas\n"
          ]
        }
      ]
    },
    {
      "cell_type": "markdown",
      "source": [
        "## 13. Control de asistencia a eventos: Escribe una función que reciba una lista de nombres de personas registradas para un evento y una lista de nombres de personas que asistieron. La función debe devolver una lista de personas que no asistieron."
      ],
      "metadata": {
        "id": "ojqfD0W8GJ0g"
      }
    },
    {
      "cell_type": "code",
      "source": [
        "def personas_no_asistieron(registrados,asistieron):\n",
        "  no_asistieron = set(registrados) - set(asistieron)\n",
        "  return list(no_asistieron)\n",
        "\n",
        "registrados=[\"Fabian\",\"Andres\",\"Laura\",\"Julian\",\"Patricia\",\"Sara\",\"Sofia\"]\n",
        "asistieron=[\"Laura\",\"Sara\",\"Sofia\"]\n",
        "\n",
        "no_asistieron=personas_no_asistieron(registrados,asistieron)\n",
        "print(no_asistieron)"
      ],
      "metadata": {
        "colab": {
          "base_uri": "https://localhost:8080/"
        },
        "id": "3Tf4XqqWaCvL",
        "outputId": "4ef34c67-b633-4096-b79d-0b4ee36c9c43"
      },
      "execution_count": null,
      "outputs": [
        {
          "output_type": "stream",
          "name": "stdout",
          "text": [
            "['Julian', 'Patricia', 'Fabian', 'Andres']\n"
          ]
        }
      ]
    },
    {
      "cell_type": "markdown",
      "source": [
        "## 14. Recomendación de ejercicio diario:Crea una función que reciba la cantidad de minutos de ejercicio realizados en una semana (7 días) y devuelva un mensaje personalizado:\n",
        "\n",
        "* \"Excelente, estás en forma\" si el promedio diario es mayor a 60 minutos.\n",
        "\n",
        "* \"Buen trabajo, pero puedes mejorar\" si el promedio está entre 30 y 60 minutos.\n",
        "\n",
        "* \"Debes hacer más ejercicio\" si el promedio es menor a 30 minutos"
      ],
      "metadata": {
        "id": "jp9Jo6whGGcU"
      }
    },
    {
      "cell_type": "code",
      "source": [
        "def recomendacion_ejercicio(minutos_semanales):\n",
        "  prom_minutos = minutos_semanales / 7\n",
        "\n",
        "  if prom_minutos > 60:\n",
        "    return \"Excelente, estás en forma\"\n",
        "  elif 30 > prom_minutos < 60:\n",
        "    return \"Buen trabajo, pero puedes mejorar\"\n",
        "  else:\n",
        "    return \"Debes hacer más ejercicio\"\n",
        "\n",
        "minutos = int(input(\"Cantidad de minutos de ejercicio realizado en una semana: \"))\n",
        "\n",
        "print(recomendacion_ejercicio(minutos))"
      ],
      "metadata": {
        "colab": {
          "base_uri": "https://localhost:8080/"
        },
        "id": "pH3ZsZl4aHp5",
        "outputId": "e0fcb260-588f-4ac6-8dbb-9120f0ff5f6e"
      },
      "execution_count": null,
      "outputs": [
        {
          "output_type": "stream",
          "name": "stdout",
          "text": [
            "Cantidad de minutos de ejercicio realizado en una semana: 100\n",
            "Buen trabajo, pero puedes mejorar\n"
          ]
        }
      ]
    }
  ]
}