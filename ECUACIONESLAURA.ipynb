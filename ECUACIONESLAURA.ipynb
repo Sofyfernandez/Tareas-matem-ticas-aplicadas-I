{
  "nbformat": 4,
  "nbformat_minor": 0,
  "metadata": {
    "colab": {
      "provenance": [],
      "authorship_tag": "ABX9TyN4Fvvyv6wuCKsKg70IQIFh",
      "include_colab_link": true
    },
    "kernelspec": {
      "name": "python3",
      "display_name": "Python 3"
    },
    "language_info": {
      "name": "python"
    }
  },
  "cells": [
    {
      "cell_type": "markdown",
      "metadata": {
        "id": "view-in-github",
        "colab_type": "text"
      },
      "source": [
        "<a href=\"https://colab.research.google.com/github/Sofyfernandez/Tareas-matem-ticas-aplicadas-I/blob/main/ECUACIONESLAURA.ipynb\" target=\"_parent\"><img src=\"https://colab.research.google.com/assets/colab-badge.svg\" alt=\"Open In Colab\"/></a>"
      ]
    },
    {
      "cell_type": "markdown",
      "source": [
        "#1. PYTHAGORAS´S THEOREM\n",
        "\n",
        "#2. LOGARITHMS\n",
        "#3. CALCULIS\n",
        "#4. LAW OF GRAVITY\n",
        "#5. THE SQUARE ROOT OF MINUS ONE\n",
        "#6. EULER´S FORMULA FOR POLYHEDRA\n",
        "#7. NORMAL DISTRIBUTION\n",
        "#8. WAVE EQUATION\n",
        "#9. FOURIER TRANSFORM\n",
        "#10. NAVIER-STOKES EQUATION\n",
        "#11. MAXWELL´S EQUATIONS\n",
        "#12. SECOND LAW OF THERMODYNAMICS\n",
        "#13. RELATIVITY\n",
        "#14. SCHRODINGER´S EQUATION\n",
        "#15. INFORMATION THEORY\n",
        "#16. CHAOS THEORY\n",
        "#17. BLACK-SCHOLES EQUATION\n",
        "\n",
        "\n"
      ],
      "metadata": {
        "id": "Pu_AzeXfJrwH"
      }
    }
  ]
}