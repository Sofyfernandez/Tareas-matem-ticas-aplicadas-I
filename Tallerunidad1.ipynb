{
  "nbformat": 4,
  "nbformat_minor": 0,
  "metadata": {
    "colab": {
      "provenance": [],
      "authorship_tag": "ABX9TyPMwrtca8UpLgTnl7oO6Y1q",
      "include_colab_link": true
    },
    "kernelspec": {
      "name": "python3",
      "display_name": "Python 3"
    },
    "language_info": {
      "name": "python"
    }
  },
  "cells": [
    {
      "cell_type": "markdown",
      "metadata": {
        "id": "view-in-github",
        "colab_type": "text"
      },
      "source": [
        "<a href=\"https://colab.research.google.com/github/Sofyfernandez/Tareas-matem-ticas-aplicadas-I/blob/main/Tallerunidad1.ipynb\" target=\"_parent\"><img src=\"https://colab.research.google.com/assets/colab-badge.svg\" alt=\"Open In Colab\"/></a>"
      ]
    },
    {
      "cell_type": "markdown",
      "source": [
        "1.2\n",
        "Punto 4\n",
        "\n",
        "Punto 13\n",
        "\n",
        "Find sequences {$a_n$} and {$b_n$} such that {$a_n$} and {$b_n$} both diverge, but {$a_n+b_n$} converges.\n",
        "\n",
        "$a_n=n+\\frac{1}{n}$ : Diverge a +$\\infty$,\n",
        "$n$ crece sin limite y $\\frac{1}{n}$ tiende a cero pero no compensa el crecimiento de $n$.\n",
        "\n",
        "\n",
        "$b_n=-n$ : Diverge a -$\\infty$\n",
        "\n",
        "**SUMA** $s_n=a_n+b_n$\n",
        "$s_n=(n+\\frac{1}{n})+(-n)=\\frac{1}{n}$\n",
        "\n",
        "La suma es $\\frac{1}{n}$ , que converge a $0$ a medida que $n\\rightarrow$ $\\infty$\n",
        "\n",
        "\n",
        "\n",
        "\n",
        "1.3\n",
        "Punto 11\n",
        "***Serie Armonica***\n",
        "$S_n = \\sum_{k=1}^{n} \\frac{1}{k} = 1 + \\frac{1}{2} + \\frac{1}{3} + \\frac{1}{4} + \\dots + \\frac{1}{n}$\n",
        "\n",
        "Serie infinita que crece sin límite, pero lo hace muy lentamente.\n",
        "\n",
        " **How many terms of the harmonic series are needed to obtain a partial sum larger\n",
        "than 5? How many terms are needed to obtain a partial sum larger than 10?**\n",
        "\n",
        "$S_1 = 1$\n",
        "\n",
        "$S_2 = 1 + \\frac{1}{2} = 1.5$\n",
        "\n",
        "$S_3 = 1.5 + \\frac{1}{3} \\approx 1.833$\n",
        "$S_4 = 1.833 + \\frac{1}{4} \\approx 2.083$\n",
        "\n",
        "Se continua sumando terminos y para $n=83$ la suma supera 5, es decir $s_n>5$\n",
        "\n",
        "De la misma manera se continuan sumando terminos y vemos que la serie crece muy lentamente, por eso se  requieren $12,367$ terminos para que $s_n>10$\n",
        "\n"
      ],
      "metadata": {
        "id": "aqmW1J6nM-gU"
      }
    }
  ]
}